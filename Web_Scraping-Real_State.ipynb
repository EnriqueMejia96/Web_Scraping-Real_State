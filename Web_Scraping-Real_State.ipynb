{
 "cells": [
  {
   "cell_type": "markdown",
   "metadata": {},
   "source": [
    "# Web Scraping for Real State\n",
    "### Personal Code: José Enrique Mejía Gamarra\n",
    "\n",
    "- [1. NODE IDENTIFICATION](#1)\n",
    "- [2. LOAD REQUIRED LIBRARIES](#2)\n",
    "- [3. CONFIGURATION](#3)\n",
    "- [4. OBTAIN THE DATA](#4)\n",
    "- [5. VIEW DATAFRAME](#5)\n",
    "- [6. SEND THE INFORMATION TO PostgreSQL](#6)"
   ]
  },
  {
   "cell_type": "markdown",
   "metadata": {},
   "source": [
    "## The page from where information will be obtained is:\n",
    "## https://urbania.pe/buscar/alquiler-de-departamentos"
   ]
  },
  {
   "cell_type": "markdown",
   "metadata": {},
   "source": [
    "<a name='1'></a>\n",
    "## 1. NODE IDENTIFICATION\n",
    "### Nodes are identified that contain information regarding: \"nombre del anuncio\", \"m2\" and \"precio de alquiler\""
   ]
  },
  {
   "cell_type": "markdown",
   "metadata": {},
   "source": [
    "### Node for \"nombre de anuncio\"\n",
    "[@class='list-card-container ']/div/div/div[2]/div[1]/div/div[1]/div[1]/h2/a\n",
    "\n",
    "### Node for \"m2\"\n",
    "[@class='list-card-container ']/div/div/div[2]/div[1]/div/ul/li[1]\n",
    "\n",
    "### Node for \"precio de alquiler\"\n",
    "[@class='list-card-container ']/div/div/div[1]/div[2]/div[1]/div/span/b"
   ]
  },
  {
   "cell_type": "markdown",
   "metadata": {},
   "source": [
    "<a name='2'></a>\n",
    "## 2. LOAD REQUIRED LIBRARIES"
   ]
  },
  {
   "cell_type": "code",
   "execution_count": 1,
   "metadata": {},
   "outputs": [],
   "source": [
    "from selenium import webdriver\n",
    "from selenium.webdriver.firefox.firefox_binary import FirefoxBinary\n",
    "from selenium.webdriver.support.ui import WebDriverWait\n",
    "from selenium.webdriver.support import expected_conditions as EC\n",
    "from selenium.webdriver.common.by import By\n",
    "import pandas as pd\n",
    "import time"
   ]
  },
  {
   "cell_type": "markdown",
   "metadata": {},
   "source": [
    "<a name='3'></a>\n",
    "## 3. CONFIGURATION"
   ]
  },
  {
   "cell_type": "code",
   "execution_count": 2,
   "metadata": {},
   "outputs": [],
   "source": [
    "# Define the Firefox path\n",
    "binary = FirefoxBinary(r'C:\\\\Program Files\\\\Mozilla Firefox\\\\firefox.exe')\n",
    "\n",
    "# Create a profile\n",
    "profile = webdriver.FirefoxProfile()\n",
    "\n",
    "# Run the browser\n",
    "driver = webdriver.Firefox(firefox_profile=profile,\n",
    "                           firefox_binary=binary, \n",
    "                           executable_path='C:\\\\Users\\\\usuario\\\\Personal_Notebook\\\\geckodriver.exe')"
   ]
  },
  {
   "cell_type": "code",
   "execution_count": 3,
   "metadata": {},
   "outputs": [],
   "source": [
    "nro_pag=5         #Number of pages to be analyzed\n",
    "n=0               #The number of pages starts with 0\n",
    "totalx=0          #The total number of ads."
   ]
  },
  {
   "cell_type": "code",
   "execution_count": 4,
   "metadata": {},
   "outputs": [],
   "source": [
    "#Define the dataframe where the data will be stored.\n",
    "data_all = {'Anuncio':[],             #First create a dictionary\n",
    "             'Area':[],\n",
    "             'Precio':[]}\n",
    "df_data_all = pd.DataFrame(data_all)  #Convert the dictionary to DataFrame"
   ]
  },
  {
   "cell_type": "markdown",
   "metadata": {},
   "source": [
    "<a name='4'></a>\n",
    "## 4. OBTAIN THE DATA"
   ]
  },
  {
   "cell_type": "code",
   "execution_count": 5,
   "metadata": {},
   "outputs": [
    {
     "name": "stdout",
     "output_type": "stream",
     "text": [
      "La pagina 1° contiene 25 anuncios, el total hasta ahora es 25\n",
      "La pagina 2° contiene 25 anuncios, el total hasta ahora es 50\n",
      "La pagina 3° contiene 25 anuncios, el total hasta ahora es 75\n",
      "La pagina 4° contiene 25 anuncios, el total hasta ahora es 100\n",
      "La pagina 5° contiene 25 anuncios, el total hasta ahora es 125\n"
     ]
    }
   ],
   "source": [
    "Flag=True #The condition value.\n",
    "while Flag:\n",
    "    \n",
    "    #Update the value of n for each iteration\n",
    "    n=n+1  \n",
    "    \n",
    "    #Define the url\n",
    "    url = \"https://urbania.pe/buscar/alquiler-de-departamentos?page=\"+str(n) \n",
    "   \n",
    "    #We open the url page we specified.\n",
    "    driver.get(url)\n",
    "    \n",
    "    #Wait 5 seconds for the page to load.\n",
    "    time.sleep(10) \n",
    "    \n",
    "    #Nombre de anuncio (Name of the ad)\n",
    "    div_nombres = driver.find_elements(By.XPATH, \"//*[@class='list-card-container ']/div/div/div[2]/div[1]/div/div[1]/div[1]/h2/a\")\n",
    "    list_new_nombres = list(map(lambda x: x.text, div_nombres))\n",
    "    \n",
    "    #Area (Area)\n",
    "    div_area = driver.find_elements(By.XPATH, \"//*[@class='list-card-container ']/div/div/div[2]/div[1]/div/ul/li[1]\")\n",
    "    list_new_area = list(map(lambda x: x.text, div_area))\n",
    "    \n",
    "    #Precio (Price)\n",
    "    div_precio = driver.find_elements(By.XPATH, \"//*[@class='list-card-container ']/div/div/div[1]/div[2]/div[1]/div/span/b\")\n",
    "    list_new_precio = list(map(lambda x: x.text, div_precio))\n",
    "    \n",
    "    #Calculate number of ads\n",
    "    number_list = len(list_new_nombres)\n",
    "    totalx=totalx+number_list\n",
    "    \n",
    "    #Generate a dataframe\n",
    "    data_pag = {'Anuncio':list_new_nombres,\n",
    "                 'Area':list_new_area,\n",
    "                 'Precio':list_new_precio}\n",
    "    df_data_pag = pd.DataFrame(data_pag)\n",
    "    \n",
    "    #Concatenate\n",
    "    df_data_all=pd.concat([df_data_all, df_data_pag], axis=0)\n",
    "\n",
    "    print(\"The page \"+str(n)+\"° contain \"+str(number_list)+\" ads, the total so far is \"+str(totalx))\n",
    "    \n",
    "    if n==nro_pag:\n",
    "        Flag=False"
   ]
  },
  {
   "cell_type": "markdown",
   "metadata": {},
   "source": [
    "<a name='5'></a>\n",
    "## 5. VIEW DATAFRAME"
   ]
  },
  {
   "cell_type": "code",
   "execution_count": 6,
   "metadata": {},
   "outputs": [
    {
     "data": {
      "text/html": [
       "<div>\n",
       "<style scoped>\n",
       "    .dataframe tbody tr th:only-of-type {\n",
       "        vertical-align: middle;\n",
       "    }\n",
       "\n",
       "    .dataframe tbody tr th {\n",
       "        vertical-align: top;\n",
       "    }\n",
       "\n",
       "    .dataframe thead th {\n",
       "        text-align: right;\n",
       "    }\n",
       "</style>\n",
       "<table border=\"1\" class=\"dataframe\">\n",
       "  <thead>\n",
       "    <tr style=\"text-align: right;\">\n",
       "      <th></th>\n",
       "      <th>Anuncio</th>\n",
       "      <th>Area</th>\n",
       "      <th>Precio</th>\n",
       "    </tr>\n",
       "  </thead>\n",
       "  <tbody>\n",
       "    <tr>\n",
       "      <th>0</th>\n",
       "      <td>Magno - Calle Andalucía 250 Miraflores</td>\n",
       "      <td>37 unidades</td>\n",
       "      <td>Consultar precio</td>\n",
       "    </tr>\n",
       "    <tr>\n",
       "      <th>1</th>\n",
       "      <td>Alquilo Hermoso Departamento en San Isidro!</td>\n",
       "      <td>60 m² totales</td>\n",
       "      <td>S/ 1,963</td>\n",
       "    </tr>\n",
       "    <tr>\n",
       "      <th>2</th>\n",
       "      <td>Frente Al Mar - Dpto Amoblado y Equipado Malec...</td>\n",
       "      <td>60 m² totales</td>\n",
       "      <td>S/ 2,450</td>\n",
       "    </tr>\n",
       "    <tr>\n",
       "      <th>3</th>\n",
       "      <td>Alquiler Departamento Penthause en Miraflores</td>\n",
       "      <td>340 m² totales</td>\n",
       "      <td>S/ 8,640</td>\n",
       "    </tr>\n",
       "    <tr>\n",
       "      <th>4</th>\n",
       "      <td>Alquilo Departamento de Estreno en La Mejor Zo...</td>\n",
       "      <td>100 m² totales</td>\n",
       "      <td>S/ 3,200</td>\n",
       "    </tr>\n",
       "    <tr>\n",
       "      <th>...</th>\n",
       "      <td>...</td>\n",
       "      <td>...</td>\n",
       "      <td>...</td>\n",
       "    </tr>\n",
       "    <tr>\n",
       "      <th>120</th>\n",
       "      <td>Gran Alquiler de Departamento en Barranco</td>\n",
       "      <td>200 m² totales</td>\n",
       "      <td>S/ 6,707</td>\n",
       "    </tr>\n",
       "    <tr>\n",
       "      <th>121</th>\n",
       "      <td>Alquiler Departamento Amoblado Ubicado en Mira...</td>\n",
       "      <td>65 m² totales</td>\n",
       "      <td>S/ 2,160</td>\n",
       "    </tr>\n",
       "    <tr>\n",
       "      <th>122</th>\n",
       "      <td>Alquiler de Duplex en Miraflores con Vista Pan...</td>\n",
       "      <td>120 m² totales</td>\n",
       "      <td>S/ 3,500</td>\n",
       "    </tr>\n",
       "    <tr>\n",
       "      <th>123</th>\n",
       "      <td>Amoblado y Equipado</td>\n",
       "      <td>106 m² totales</td>\n",
       "      <td>S/ 3,916</td>\n",
       "    </tr>\n",
       "    <tr>\n",
       "      <th>124</th>\n",
       "      <td>Alquiler Apartamento en Miraflores</td>\n",
       "      <td>85 m² totales</td>\n",
       "      <td>S/ 3,168</td>\n",
       "    </tr>\n",
       "  </tbody>\n",
       "</table>\n",
       "<p>125 rows × 3 columns</p>\n",
       "</div>"
      ],
      "text/plain": [
       "                                               Anuncio            Area  \\\n",
       "0               Magno - Calle Andalucía 250 Miraflores     37 unidades   \n",
       "1          Alquilo Hermoso Departamento en San Isidro!   60 m² totales   \n",
       "2    Frente Al Mar - Dpto Amoblado y Equipado Malec...   60 m² totales   \n",
       "3        Alquiler Departamento Penthause en Miraflores  340 m² totales   \n",
       "4    Alquilo Departamento de Estreno en La Mejor Zo...  100 m² totales   \n",
       "..                                                 ...             ...   \n",
       "120          Gran Alquiler de Departamento en Barranco  200 m² totales   \n",
       "121  Alquiler Departamento Amoblado Ubicado en Mira...   65 m² totales   \n",
       "122  Alquiler de Duplex en Miraflores con Vista Pan...  120 m² totales   \n",
       "123                                Amoblado y Equipado  106 m² totales   \n",
       "124                 Alquiler Apartamento en Miraflores   85 m² totales   \n",
       "\n",
       "               Precio  \n",
       "0    Consultar precio  \n",
       "1            S/ 1,963  \n",
       "2            S/ 2,450  \n",
       "3            S/ 8,640  \n",
       "4            S/ 3,200  \n",
       "..                ...  \n",
       "120          S/ 6,707  \n",
       "121          S/ 2,160  \n",
       "122          S/ 3,500  \n",
       "123          S/ 3,916  \n",
       "124          S/ 3,168  \n",
       "\n",
       "[125 rows x 3 columns]"
      ]
     },
     "execution_count": 6,
     "metadata": {},
     "output_type": "execute_result"
    }
   ],
   "source": [
    "df_books_all=df_books_all.reset_index(drop=True)\n",
    "df_books_all"
   ]
  },
  {
   "cell_type": "markdown",
   "metadata": {},
   "source": [
    "#### As can be seen, the first value is actually a pre-sale of apartments, so it will have to be eliminated."
   ]
  },
  {
   "cell_type": "code",
   "execution_count": 7,
   "metadata": {},
   "outputs": [
    {
     "data": {
      "text/html": [
       "<div>\n",
       "<style scoped>\n",
       "    .dataframe tbody tr th:only-of-type {\n",
       "        vertical-align: middle;\n",
       "    }\n",
       "\n",
       "    .dataframe tbody tr th {\n",
       "        vertical-align: top;\n",
       "    }\n",
       "\n",
       "    .dataframe thead th {\n",
       "        text-align: right;\n",
       "    }\n",
       "</style>\n",
       "<table border=\"1\" class=\"dataframe\">\n",
       "  <thead>\n",
       "    <tr style=\"text-align: right;\">\n",
       "      <th></th>\n",
       "      <th>Anuncio</th>\n",
       "      <th>Area</th>\n",
       "      <th>Precio</th>\n",
       "    </tr>\n",
       "  </thead>\n",
       "  <tbody>\n",
       "    <tr>\n",
       "      <th>0</th>\n",
       "      <td>Alquilo Hermoso Departamento en San Isidro!</td>\n",
       "      <td>60 m² totales</td>\n",
       "      <td>S/ 1,963</td>\n",
       "    </tr>\n",
       "    <tr>\n",
       "      <th>1</th>\n",
       "      <td>Frente Al Mar - Dpto Amoblado y Equipado Malec...</td>\n",
       "      <td>60 m² totales</td>\n",
       "      <td>S/ 2,450</td>\n",
       "    </tr>\n",
       "    <tr>\n",
       "      <th>2</th>\n",
       "      <td>Alquiler Departamento Penthause en Miraflores</td>\n",
       "      <td>340 m² totales</td>\n",
       "      <td>S/ 8,640</td>\n",
       "    </tr>\n",
       "    <tr>\n",
       "      <th>3</th>\n",
       "      <td>Alquilo Departamento de Estreno en La Mejor Zo...</td>\n",
       "      <td>100 m² totales</td>\n",
       "      <td>S/ 3,200</td>\n",
       "    </tr>\n",
       "    <tr>\n",
       "      <th>4</th>\n",
       "      <td>Alquiler de Departamento Amoblado y Equipado, ...</td>\n",
       "      <td>67 m² totales</td>\n",
       "      <td>S/ 3,500</td>\n",
       "    </tr>\n",
       "    <tr>\n",
       "      <th>...</th>\n",
       "      <td>...</td>\n",
       "      <td>...</td>\n",
       "      <td>...</td>\n",
       "    </tr>\n",
       "    <tr>\n",
       "      <th>119</th>\n",
       "      <td>Gran Alquiler de Departamento en Barranco</td>\n",
       "      <td>200 m² totales</td>\n",
       "      <td>S/ 6,707</td>\n",
       "    </tr>\n",
       "    <tr>\n",
       "      <th>120</th>\n",
       "      <td>Alquiler Departamento Amoblado Ubicado en Mira...</td>\n",
       "      <td>65 m² totales</td>\n",
       "      <td>S/ 2,160</td>\n",
       "    </tr>\n",
       "    <tr>\n",
       "      <th>121</th>\n",
       "      <td>Alquiler de Duplex en Miraflores con Vista Pan...</td>\n",
       "      <td>120 m² totales</td>\n",
       "      <td>S/ 3,500</td>\n",
       "    </tr>\n",
       "    <tr>\n",
       "      <th>122</th>\n",
       "      <td>Amoblado y Equipado</td>\n",
       "      <td>106 m² totales</td>\n",
       "      <td>S/ 3,916</td>\n",
       "    </tr>\n",
       "    <tr>\n",
       "      <th>123</th>\n",
       "      <td>Alquiler Apartamento en Miraflores</td>\n",
       "      <td>85 m² totales</td>\n",
       "      <td>S/ 3,168</td>\n",
       "    </tr>\n",
       "  </tbody>\n",
       "</table>\n",
       "<p>124 rows × 3 columns</p>\n",
       "</div>"
      ],
      "text/plain": [
       "                                               Anuncio            Area  \\\n",
       "0          Alquilo Hermoso Departamento en San Isidro!   60 m² totales   \n",
       "1    Frente Al Mar - Dpto Amoblado y Equipado Malec...   60 m² totales   \n",
       "2        Alquiler Departamento Penthause en Miraflores  340 m² totales   \n",
       "3    Alquilo Departamento de Estreno en La Mejor Zo...  100 m² totales   \n",
       "4    Alquiler de Departamento Amoblado y Equipado, ...   67 m² totales   \n",
       "..                                                 ...             ...   \n",
       "119          Gran Alquiler de Departamento en Barranco  200 m² totales   \n",
       "120  Alquiler Departamento Amoblado Ubicado en Mira...   65 m² totales   \n",
       "121  Alquiler de Duplex en Miraflores con Vista Pan...  120 m² totales   \n",
       "122                                Amoblado y Equipado  106 m² totales   \n",
       "123                 Alquiler Apartamento en Miraflores   85 m² totales   \n",
       "\n",
       "       Precio  \n",
       "0    S/ 1,963  \n",
       "1    S/ 2,450  \n",
       "2    S/ 8,640  \n",
       "3    S/ 3,200  \n",
       "4    S/ 3,500  \n",
       "..        ...  \n",
       "119  S/ 6,707  \n",
       "120  S/ 2,160  \n",
       "121  S/ 3,500  \n",
       "122  S/ 3,916  \n",
       "123  S/ 3,168  \n",
       "\n",
       "[124 rows x 3 columns]"
      ]
     },
     "execution_count": 7,
     "metadata": {},
     "output_type": "execute_result"
    }
   ],
   "source": [
    "df_books=df_books_all.drop([0],axis=0).reset_index(drop=True)\n",
    "df_books"
   ]
  },
  {
   "cell_type": "markdown",
   "metadata": {},
   "source": [
    "<a name='6'></a>\n",
    "## 6. SEND THE INFORMATION TO PostgreSQL"
   ]
  },
  {
   "cell_type": "code",
   "execution_count": 8,
   "metadata": {},
   "outputs": [],
   "source": [
    "#The necessary libraries are installed\n",
    "from sqlalchemy import create_engine\n",
    "import pandas as pd\n",
    "import psycopg2 \n",
    "import io"
   ]
  },
  {
   "cell_type": "code",
   "execution_count": 9,
   "metadata": {},
   "outputs": [],
   "source": [
    "#Credentials\n",
    "Usuario='postgres'\n",
    "Pass='*******'        #For security reasons, this information will not be displayed.\n",
    "IP='69.164.192.245'\n",
    "Puerto='5432'\n",
    "Base_datos='web_scraping'"
   ]
  },
  {
   "cell_type": "code",
   "execution_count": 10,
   "metadata": {},
   "outputs": [],
   "source": [
    "#Connection to DataBase\n",
    "engine = create_engine('postgresql+psycopg2://'+Usuario+':'+Pass+'@'+IP+':'+Puerto+'/'+Base_datos)\n",
    "df_data_all.to_sql('jose_mejia', engine)"
   ]
  }
 ],
 "metadata": {
  "kernelspec": {
   "display_name": "Python 3 (ipykernel)",
   "language": "python",
   "name": "python3"
  },
  "language_info": {
   "codemirror_mode": {
    "name": "ipython",
    "version": 3
   },
   "file_extension": ".py",
   "mimetype": "text/x-python",
   "name": "python",
   "nbconvert_exporter": "python",
   "pygments_lexer": "ipython3",
   "version": "3.8.0"
  }
 },
 "nbformat": 4,
 "nbformat_minor": 4
}
